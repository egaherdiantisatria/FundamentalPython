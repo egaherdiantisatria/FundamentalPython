{
 "cells": [
  {
   "cell_type": "markdown",
   "metadata": {},
   "source": [
    "<h1>FUNDAMENTAL PYTHON</h1>\n"
   ]
  },
  {
   "cell_type": "markdown",
   "metadata": {},
   "source": [
    "<H8>Python adalah bahasa pemrograman yang populer dan banyak digunakan saat ini. Berikut adalah beberapa konsep dasar dalam Python:\n",
    "\n",
    "1. Variabel :\n",
    "Variabel digunakan untuk menyimpan data dalam program Python.\n",
    "<br>Nama variabel harus mengikuti aturan penamaan yang valid, seperti tidak boleh mengandung spasi dan tidak boleh diawali dengan angka.\n",
    "2. Tipe Data :\n",
    "Python memiliki beberapa tipe data dasar, seperti integer, float, string, boolean, dan lainnya.\n",
    "<br>Tipe data dapat diketahui menggunakan fungsi type().\n",
    "<br>Contoh: type(5) # int, type(3.14) # float,type(\"hello\") # str\n",
    "3. Operator :\n",
    "Python memiliki berbagai operator matematika, logika, pengukuran, dan pengugasan.\n",
    "<br>Contoh: +(tambah), -(kurang), *(kali), /(bagi), ==(sama dengan), and, or,not\n",
    "4. Conditional Statement:\n",
    "Python memiliki struktur kontrol seperti if-else, for, while, dan try-except.\n",
    "<br>Struktur kontrol digunakan untuk mengontrol program aliran berdasarkan kondisi tertentu.\n",
    "\n",
    "Ini adalah beberapa konsep dasar dalam Python. Seiring Anda mempelajari dan berlatih Python, Anda akan semakin mahir menggunakan bahasa pemrograman ini.</h8>"
   ]
  },
  {
   "cell_type": "markdown",
   "metadata": {},
   "source": [
    "<h2>Variabel dan Tipe data</h2>"
   ]
  },
  {
   "cell_type": "code",
   "execution_count": 5,
   "metadata": {},
   "outputs": [
    {
     "name": "stdout",
     "output_type": "stream",
     "text": [
      "Nama saya Ega umur saya 24 gaji saya 4673923.45\n",
      "<class 'str'>\n",
      "<class 'int'>\n",
      "<class 'float'>\n",
      "Nama saya Ega umur saya 24 gaji saya 4673923.45\n",
      "hallo, Herdianti!\n"
     ]
    }
   ],
   "source": [
    "\n",
    "Nama = \"Ega\"\n",
    "Umur = 24\n",
    "Sallary = 4673923.45\n",
    "\n",
    "print(\"Nama saya \"+Nama+\" \"+\"umur saya \"+str(Umur)+\" \"+\"gaji saya \"+str(Sallary))\n",
    "##akan error jika\n",
    "##print(nama)\n",
    "print(type(Nama))\n",
    "print(type(Umur))\n",
    "print(type(Sallary))\n",
    "print(\"Nama saya\",Nama,\"umur saya\",Umur,\"gaji saya\",Sallary)\n",
    "\n",
    "nama =input(\"Masukkan Namamu = \")\n",
    "print(\"hallo, \"+ nama + \"!\")"
   ]
  },
  {
   "cell_type": "markdown",
   "metadata": {},
   "source": [
    "<h2>Operator dan Aritmatika </h2>\n",
    "\n",
    "<br>\"+\" = \"Addition\"\n",
    "<br>\"-\" = \"Subtraction\"\n",
    "<br>\"*\" = \"Multiplication\"\n",
    "<br>\"/\" = \"Floating point divison\"\n",
    "<br>\"//\"= \"Integer divison\"\n",
    "<br>\"%\" = \"Integer Modulus\"\n",
    "<br>\"**\"= \"Exponentiation\"\n",
    "\n",
    "\n",
    "Operator Aritmatika :\n",
    "<ul> \n",
    "<li>Penjumlahan:+ </li>\n",
    "<li>pengurangan:-</li>\n",
    "<li>Perkalian:*</li>\n",
    "<li>Bagian:/</li>\n",
    "<li>Bagian Bulat://</li>\n",
    "<li>Sisa Pembagian:%</li>\n",
    "<li>Pangkat:**</li>\n",
    "</ul>\n"
   ]
  },
  {
   "cell_type": "code",
   "execution_count": 6,
   "metadata": {},
   "outputs": [
    {
     "name": "stdout",
     "output_type": "stream",
     "text": [
      "13\n",
      "7\n",
      "30\n",
      "3.3333333333333335\n",
      "3\n",
      "1\n",
      "1000\n"
     ]
    }
   ],
   "source": [
    "\n",
    "a = 10\n",
    "b = 3\n",
    "print(a + b)   # Output: 13\n",
    "print(a - b)   # Output: 7\n",
    "print(a * b)   # Output: 30\n",
    "print(a / b)   # Output: 3.3333333333333335\n",
    "print(a // b)  # Output: 3 (pembagian bulat)\n",
    "print(a % b)   # Output: 1 (sisa pembagian)\n",
    "print(a ** b)  # Output: 1000 (a pangkat b)"
   ]
  },
  {
   "cell_type": "markdown",
   "metadata": {},
   "source": [
    "Operator Penugasan :\n",
    "<ul>\n",
    "<li>Penugasan Sederhana:= </li>\n",
    "<li>Penugasan Tambahan:+= </li>\n",
    "<li>Penugasan Kurang:-= </li>\n",
    "<li>Penugasan Kali:*=</li>\n",
    "<li>Penugasan Bagi:/=</li>\n",
    "<li>Penugasan Bagi Bulat://=</li>\n",
    "<li>Penugasan Sisa:%=</li>\n",
    "<li>Penugasan Pangkat:**=</li>\n",
    "</ul>"
   ]
  },
  {
   "cell_type": "code",
   "execution_count": 18,
   "metadata": {},
   "outputs": [
    {
     "name": "stdout",
     "output_type": "stream",
     "text": [
      "13\n",
      "11\n",
      "44\n",
      "22.0\n",
      "7.0\n",
      "2.0\n",
      "8.0\n"
     ]
    }
   ],
   "source": [
    "a = 10\n",
    "a += 3  # a = a + 3, a = 13\n",
    "print(a)\n",
    "a -= 2  # a = a - 2, a = 11\n",
    "print(a)\n",
    "a *= 4  # a = a * 4, a = 44\n",
    "print(a)\n",
    "a /= 2  # a = a / 2, a = 22.0\n",
    "print(a)\n",
    "a //= 3 # a = a // 3, a = 7\n",
    "print(a)\n",
    "a %= 5  # a = a % 5, a = 2\n",
    "print(a)\n",
    "a **= 3 # a = a ** 3, a = 8\n",
    "print(a)"
   ]
  },
  {
   "cell_type": "markdown",
   "metadata": {},
   "source": [
    "Perbandingan Operator :\n",
    "<ul>\n",
    "<li>Sama dengan:==</li>\n",
    "<li>Tidak sama dengan:!=</li>\n",
    "<li>Kurang dari:</li>\n",
    "<li>Kurang dari atau sama dengan:<=</li>\n",
    "<li>Lebih dari:></li>\n",
    "<li>Lebih dari atau sama dengan:>=</li></ul>"
   ]
  },
  {
   "cell_type": "code",
   "execution_count": 19,
   "metadata": {},
   "outputs": [
    {
     "name": "stdout",
     "output_type": "stream",
     "text": [
      "False\n",
      "True\n",
      "True\n",
      "True\n",
      "False\n",
      "False\n"
     ]
    }
   ],
   "source": [
    "a = 10\n",
    "b = 20\n",
    "print(a == b)   # Output: False\n",
    "print(a != b)   # Output: True\n",
    "print(a < b)    # Output: True\n",
    "print(a <= b)   # Output: True\n",
    "print(a > b)    # Output: False\n",
    "print(a >= b)   # Output: False"
   ]
  },
  {
   "cell_type": "markdown",
   "metadata": {},
   "source": [
    "Modul math menyediakan berbagai fungsi dan konstanta matematika yang dapat digunakan dalam program Python. Beberapa contoh penggunaannya di atas meliputi:\n",
    "<ol>\n",
    "<li>Konstanta Matematika:<br> Mengakses konstanta matematika seperti pi dan e.</li>\n",
    "<li>Fungsi Matematika: <br> Menggunakan fungsi matematika seperti akar kuadrat, pembulatan, pangkat, logaritma, dan trigonometri.</li>\n",
    "<li>Fungsi Hiperbola:<br>  Menggunakan fungsi hiperbola seperti sinh(), cosh(), dan tanh().</li>\n",
    "<li>Konversi Radian dan Derajat: <br> Mengkonversi antara radian dan derajat menggunakan radians() dan degrees().</li></ol>\n",
    "\n",
    "\n",
    "Modul math sangat berguna untuk melakukan perhitungan dan operasi matematika yang lebih kompleks dalam program Python. Dengan mempelajari dan menggunakan fungsi-fungsi yang tersedia, Anda dapat meningkatkan kemampuan matematika dalam pengembangan aplikasi."
   ]
  },
  {
   "cell_type": "code",
   "execution_count": 24,
   "metadata": {},
   "outputs": [
    {
     "name": "stdout",
     "output_type": "stream",
     "text": [
      "Phi : 3.141592653589793\n",
      "e : 2.718281828459045\n",
      "Akar Kuadrat:  4.0\n",
      "pembulatan ke atas:  4\n",
      "pembulatan ke bawah:  3\n",
      "pangkat:  8.0\n",
      "logaritma natural: 2.302585092994046\n",
      "2.0\n",
      "1.0\n",
      "-1.0\n",
      "0.9999999999999999\n",
      "sinh 1:  1.1752011936438014\n",
      "cosh 1:  1.5430806348152437\n",
      "tanh 1 0.7615941559557649\n",
      "konversi derajat ke radian: 0.7853981633974483\n",
      "konversi radian ke derajat: 90.0\n"
     ]
    }
   ],
   "source": [
    "import math\n",
    "\n",
    "# Konstanta matematika\n",
    "print(\"Phi :\",math.pi)  # Output: 3.141592653589793\n",
    "print(\"e :\",math.e)   # Output: 2.718281828459045\n",
    "\n",
    "# Fungsi matematika\n",
    "print(\"Akar Kuadrat: \",math.sqrt(16))   # Output: 4.0 (akar kuadrat)\n",
    "print(\"pembulatan ke atas: \",math.ceil(3.4))  # Output: 4 (pembulatan ke atas)\n",
    "print(\"pembulatan ke bawah: \",math.floor(3.4)) # Output: 3 (pembulatan ke bawah)\n",
    "print(\"pangkat: \",math.pow(2, 3))  # Output: 8.0 (pangkat)\n",
    "print('logaritma natural:',math.log(10))    # Output: 2.302585092994046 (logaritma natural)\n",
    "print(math.log10(100)) # Output: 2.0 (logaritma basis 10)\n",
    "print(math.sin(math.pi/2)) # Output: 1.0 (sin 90 derajat)\n",
    "print(math.cos(math.pi))   # Output: -1.0 (cos 180 derajat)\n",
    "print(math.tan(math.pi/4)) # Output: 0.9999999999999999 (tan 45 derajat)\n",
    "\n",
    "# Fungsi hiperbola\n",
    "print(\"sinh 1: \",math.sinh(1))   # Output: 1.1752011936438014 (sinh 1)\n",
    "print(\"cosh 1: \",math.cosh(1))   # Output: 1.5430806348152437 (cosh 1)\n",
    "print(\"tanh 1\",math.tanh(1))   # Output: 0.7615941559557649 (tanh 1)\n",
    "\n",
    "# Fungsi Radian dan Derajat\n",
    "print('konversi derajat ke radian:',math.radians(45)) # Output: 0.7853981633974483 (konversi derajat ke radian)\n",
    "print('konversi radian ke derajat:',math.degrees(math.pi/2)) # Output: 90.0 (konversi radian ke derajat)"
   ]
  },
  {
   "cell_type": "markdown",
   "metadata": {},
   "source": [
    "<h2>STRING</h2>\n",
    "<h7>Escape karakter</h7>\n",
    "Dalam Python, karakter escape digunakan untuk merepresentasikan karakter khusus atau untuk membuat string yang lebih mudah dibaca. Berikut adalah beberapa contoh karakter escape yang sering digunakan dalam Python:\n",
    "\n",
    "<ol>\n",
    "<li>Backslash (\\): Digunakan untuk menandai karakter escape.</li>\n",
    "\n",
    "<li>Newline (\\n): Digunakan untuk membuat baris baru.</li>\n",
    "\n",
    "<li>Tab (\\t): Digunakan untuk membuat indentasi horizontal.</li>\n",
    "\n",
    "<li>Single quote (\\'): Digunakan untuk menyisipkan tanda petik tunggal dalam string yang dibatasi dengan tanda petik tunggal.</li>\n",
    "\n",
    "<li>Double quote (\\\"): Digunakan untuk menyisipkan tanda petik ganda dalam string yang dibatasi dengan tanda petik ganda.</li>\n",
    "\n",
    "<li>Backspace (\\b): Digunakan untuk menghapus karakter sebelumnya.</li>\n",
    "\n",
    "<li>Carriage return (\\r): Digunakan untuk memindahkan kursor ke awal baris.</li>\n",
    "\n",
    "<li>Unicode escape (\\u): Digunakan untuk menyisipkan karakter Unicode.</li>\n",
    "\n",
    "<li>Octal escape (\\ooo): Digunakan untuk menyisipkan karakter berdasarkan kode octal.</li>\n",
    "\n",
    "<li>Hexadecimal escape (\\xhh): Digunakan untuk menyisipkan karakter berdasarkan kode hexadecimal.</li></ol\n",
    ">\n",
    "\n",
    "Karakter escape sangat berguna saat Anda ingin memasukkan karakter khusus atau membuat string yang lebih mudah dibaca dalam program Python. Ingatlah untuk menggunakan backslash (\\) untuk menandai karakter escape, dan pelajari lebih lanjut tentang penggunaannya sesuai dengan kebutuhan Anda."
   ]
  },
  {
   "cell_type": "code",
   "execution_count": 30,
   "metadata": {},
   "outputs": [
    {
     "name": "stdout",
     "output_type": "stream",
     "text": [
      "This is a backslash: \\\n",
      "Hello\n",
      "World\n",
      "Hello\tWorld\n",
      "It's a beautiful day\n",
      "She said, \"Hello, world!\"\n",
      "HellWorld\n",
      "HellWorld\n",
      "World\n",
      "❤ Unicode Heart\n",
      "Hello\n",
      "Hello\n"
     ]
    }
   ],
   "source": [
    "print('This is a backslash: \\\\')  # Output: This is a backslash: \\\n",
    "print('Hello\\nWorld')  # Output:\n",
    "                      # Hello\n",
    "                      # World\n",
    "print('Hello\\tWorld')  # Output: Hello    World\n",
    "print('It\\'s a beautiful day')  # Output: It's a beautiful day\n",
    "print(\"She said, \\\"Hello, world!\\\"\")  # Output: She said, \"Hello, world!\"\n",
    "print('Hello\\bWorld')  # Output: HelloWorld\n",
    "print('Hello\\bWorld')  # Output: HelloWorld\n",
    "print('Hello\\rWorld')  # Output: World\n",
    "print('\\u2764 Unicode Heart')  # Output: ❤ Unicode Heart\n",
    "print('\\110\\145\\154\\154\\157')  # Output: Hello\n",
    "print('\\x48\\x65\\x6c\\x6c\\x6f')  # Output: Hello"
   ]
  },
  {
   "cell_type": "markdown",
   "metadata": {},
   "source": [
    "Dalam Python, ada beberapa fungsi yang sering digunakan untuk memanipulasi string, yaitu:\n",
    "<li>upper(): Mengubah semua karakter dalam string menjadi huruf besar.</li>"
   ]
  },
  {
   "cell_type": "code",
   "execution_count": 31,
   "metadata": {},
   "outputs": [
    {
     "name": "stdout",
     "output_type": "stream",
     "text": [
      "HELLO WORLD\n"
     ]
    }
   ],
   "source": [
    "text = \"hello world\"\n",
    "print(text.upper())  # Output: HELLO WORLD"
   ]
  },
  {
   "cell_type": "markdown",
   "metadata": {},
   "source": [
    "<li>lower(): Mengubah semua karakter dalam string menjadi huruf kecil.</li>"
   ]
  },
  {
   "cell_type": "code",
   "execution_count": 32,
   "metadata": {},
   "outputs": [
    {
     "name": "stdout",
     "output_type": "stream",
     "text": [
      "hello world\n"
     ]
    }
   ],
   "source": [
    "text = \"HELLO WORLD\"\n",
    "print(text.lower())  # Output: hello world"
   ]
  },
  {
   "cell_type": "markdown",
   "metadata": {},
   "source": [
    "<li>capitalize(): Mengubah karakter pertama menjadi huruf besar, dan sisanya menjadi huruf kecil.</li>"
   ]
  },
  {
   "cell_type": "code",
   "execution_count": 33,
   "metadata": {},
   "outputs": [
    {
     "name": "stdout",
     "output_type": "stream",
     "text": [
      "Hello world\n"
     ]
    }
   ],
   "source": [
    "text = \"hello world\"\n",
    "print(text.capitalize())  # Output: Hello world"
   ]
  },
  {
   "cell_type": "markdown",
   "metadata": {},
   "source": [
    "<li>title(): Mengubah setiap kata menjadi diawali dengan huruf besar.</li>"
   ]
  },
  {
   "cell_type": "code",
   "execution_count": 34,
   "metadata": {},
   "outputs": [
    {
     "name": "stdout",
     "output_type": "stream",
     "text": [
      "Hello World\n"
     ]
    }
   ],
   "source": [
    "text = \"hello world\"\n",
    "print(text.title())  # Output: Hello World"
   ]
  },
  {
   "cell_type": "markdown",
   "metadata": {},
   "source": [
    "<li>split(): Memecah string menjadi list berdasarkan pemisah (default adalah spasi).</li>"
   ]
  },
  {
   "cell_type": "code",
   "execution_count": 35,
   "metadata": {},
   "outputs": [
    {
     "name": "stdout",
     "output_type": "stream",
     "text": [
      "['apple', 'banana', 'cherry']\n"
     ]
    }
   ],
   "source": [
    "text = \"apple banana cherry\"\n",
    "print(text.split())  # Output: ['apple', 'banana', 'cherry']\n"
   ]
  },
  {
   "cell_type": "markdown",
   "metadata": {},
   "source": [
    "<li>split(separator, maxsplit): Memecah string menjadi list dengan menggunakan pemisah yang ditentukan, dan jumlah maksimal pemecahan.</li>"
   ]
  },
  {
   "cell_type": "code",
   "execution_count": 36,
   "metadata": {},
   "outputs": [
    {
     "name": "stdout",
     "output_type": "stream",
     "text": [
      "['apple', 'banana', 'cherry']\n",
      "['apple', 'banana,cherry']\n"
     ]
    }
   ],
   "source": [
    "text = \"apple,banana,cherry\"\n",
    "print(text.split(\",\"))  # Output: ['apple', 'banana', 'cherry']\n",
    "print(text.split(\",\", 1))  # Output: ['apple', 'banana,cherry']"
   ]
  },
  {
   "cell_type": "markdown",
   "metadata": {},
   "source": [
    "<li>join(iterable): Menggabungkan elemen-elemen dalam iterable (seperti list) menjadi satu string</li>"
   ]
  },
  {
   "cell_type": "code",
   "execution_count": 37,
   "metadata": {},
   "outputs": [
    {
     "name": "stdout",
     "output_type": "stream",
     "text": [
      "apple,banana,cherry\n"
     ]
    }
   ],
   "source": [
    "fruits = [\"apple\", \"banana\", \"cherry\"]\n",
    "print(\",\".join(fruits))  # Output: apple,banana,cherry"
   ]
  },
  {
   "cell_type": "markdown",
   "metadata": {},
   "source": [
    "<li>strip(), lstrip(), rstrip(): Menghapus whitespace (spasi, tab, newline) di awal, akhir, atau kedua sisi string.</li>"
   ]
  },
  {
   "cell_type": "code",
   "execution_count": 38,
   "metadata": {},
   "outputs": [
    {
     "name": "stdout",
     "output_type": "stream",
     "text": [
      "hello world\n",
      "hello world   \n",
      "   hello world\n"
     ]
    }
   ],
   "source": [
    "text = \"   hello world   \"\n",
    "print(text.strip())  # Output: \"hello world\"\n",
    "print(text.lstrip())  # Output: \"hello world   \"\n",
    "print(text.rstrip())  # Output: \"   hello world\""
   ]
  },
  {
   "cell_type": "markdown",
   "metadata": {},
   "source": [
    "<li>replace(old, new, [count]): Mengganti semua kemunculan substring old dengan new. Opsional count untuk membatasi jumlah penggantian.</li>"
   ]
  },
  {
   "cell_type": "code",
   "execution_count": 39,
   "metadata": {},
   "outputs": [
    {
     "name": "stdout",
     "output_type": "stream",
     "text": [
      "Hi, world. Hi, Python.\n",
      "Hexxo, world. Hello, Python.\n"
     ]
    }
   ],
   "source": [
    "text = \"Hello, world. Hello, Python.\"\n",
    "print(text.replace(\"Hello\", \"Hi\"))  # Output: \"Hi, world. Hi, Python.\"\n",
    "print(text.replace(\"l\", \"x\", 2))  # Output: \"Hexlo, world. Hello, Python.\"\n"
   ]
  },
  {
   "cell_type": "markdown",
   "metadata": {},
   "source": [
    "Fungsi-fungsi di atas sangat berguna dalam manipulasi dan pengolahan string pada program Python. Pelajari dan praktikkan penggunaannya sesuai dengan kebutuhan Anda."
   ]
  },
  {
   "cell_type": "markdown",
   "metadata": {},
   "source": [
    "<h7>Slicing string</h7>\n",
    "Slicing pada string di Python adalah teknik untuk mengambil substring dari sebuah string. Slicing dilakukan dengan menggunakan operator [] dan menentukan rentang indeks yang ingin diambil.\n",
    "\n",
    "Berikut adalah sintaks umum untuk melakukan slicing pada string:\n",
    "string[start:stop:step]\n",
    "<ul><li>start: Indeks mulai (opsional, default adalah 0)</li>\n",
    "<li>stop: Indeks berhenti (opsional, default adalah panjang string)</li>\n",
    "<li>step: Lompatan indeks (opsional, default adalah 1)</li></ul>\n",
    "Berikut adalah beberapa contoh penggunaan slicing pada string:\n",
    "<li>Dasar slicing:</li>"
   ]
  },
  {
   "cell_type": "code",
   "execution_count": 41,
   "metadata": {},
   "outputs": [
    {
     "name": "stdout",
     "output_type": "stream",
     "text": [
      "Hello\n",
      "World\n"
     ]
    }
   ],
   "source": [
    "text = \"Hello, World!\"\n",
    "print(text[0:5])   # Output: Hello\n",
    "print(text[7:12])  # Output: World\n"
   ]
  },
  {
   "cell_type": "markdown",
   "metadata": {},
   "source": [
    "<li>Mengabaikan awal atau akhir:</li>"
   ]
  },
  {
   "cell_type": "code",
   "execution_count": 42,
   "metadata": {},
   "outputs": [
    {
     "name": "stdout",
     "output_type": "stream",
     "text": [
      "Hello\n",
      "World!\n"
     ]
    }
   ],
   "source": [
    "text = \"Hello, World!\"\n",
    "print(text[:5])   # Output: Hello\n",
    "print(text[7:])   # Output: World!"
   ]
  },
  {
   "cell_type": "markdown",
   "metadata": {},
   "source": [
    "<li>Menggunakan step:</li>"
   ]
  },
  {
   "cell_type": "code",
   "execution_count": 43,
   "metadata": {},
   "outputs": [
    {
     "name": "stdout",
     "output_type": "stream",
     "text": [
      "Hlo ol!\n",
      "!dlroW ,olleH\n"
     ]
    }
   ],
   "source": [
    "text = \"Hello, World!\"\n",
    "print(text[::2])    # Output: HloWrd\n",
    "print(text[::-1])   # Output: !dlroW ,olleH"
   ]
  },
  {
   "cell_type": "markdown",
   "metadata": {},
   "source": [
    "<li>Slicing dengan indeks negatif:</li>"
   ]
  },
  {
   "cell_type": "code",
   "execution_count": 46,
   "metadata": {},
   "outputs": [
    {
     "name": "stdout",
     "output_type": "stream",
     "text": [
      "World\n",
      "!dlro\n"
     ]
    }
   ],
   "source": [
    "text = \"Hello, World!\"\n",
    "print(text[-6:-1])  # Output: World\n",
    "print(text[-1:-6:-1])  # Output: !dlroW"
   ]
  },
  {
   "cell_type": "markdown",
   "metadata": {},
   "source": [
    "Slicing sangat berguna ketika Anda ingin mengambil bagian tertentu dari sebuah string. Ini sering digunakan dalam manipulasi dan pengolahan data string pada program Python."
   ]
  },
  {
   "cell_type": "markdown",
   "metadata": {},
   "source": [
    "<h7>String Format</h7>\n",
    "<li>String Formatting dengan f-strings (Python 3.6+):</li>\n",
    "<ul><li>Ini adalah cara paling modern dan mudah digunakan.</li>\n",
    "<li>Diawali dengan huruf f sebelum string literal.</li>\n",
    "<li>Ekspresi Python dapat disisipkan langsung di dalam string dengan menggunakan {}.</li></ul>"
   ]
  },
  {
   "cell_type": "code",
   "execution_count": 47,
   "metadata": {},
   "outputs": [
    {
     "name": "stdout",
     "output_type": "stream",
     "text": [
      "My name is Alice and I'm 25 years old.\n"
     ]
    }
   ],
   "source": [
    "name = \"Alice\"\n",
    "age = 25\n",
    "print(f\"My name is {name} and I'm {age} years old.\")\n",
    "# Output: My name is Alice and I'm 25 years old."
   ]
  },
  {
   "cell_type": "markdown",
   "metadata": {},
   "source": [
    "<li>String Formatting dengan .format():</li>\n",
    "<ul><li>Metode yang sering digunakan sebelum f-strings tersedia.</li>\n",
    "<li>Menempatkan nilai yang ingin diformat di dalam kurung kurawal {}.</li>\n",
    "<li>Nilai dimasukkan berdasarkan urutan atau nama variabel.</li></ul>"
   ]
  },
  {
   "cell_type": "code",
   "execution_count": 48,
   "metadata": {},
   "outputs": [
    {
     "name": "stdout",
     "output_type": "stream",
     "text": [
      "My name is Alice and I'm 25 years old.\n",
      "My name is Alice and I'm 25 years old.\n",
      "My name is Alice and I'm 25 years old.\n"
     ]
    }
   ],
   "source": [
    "name = \"Alice\"\n",
    "age = 25\n",
    "print(\"My name is {} and I'm {} years old.\".format(name, age))\n",
    "print(\"My name is {0} and I'm {1} years old.\".format(name, age))\n",
    "print(\"My name is {name} and I'm {age} years old.\".format(name=name, age=age))\n",
    "# Output (for all 3 print statements):\n",
    "# My name is Alice and I'm 25 years old."
   ]
  },
  {
   "cell_type": "markdown",
   "metadata": {},
   "source": [
    "<li>String Formatting dengan % operator:</li>\n",
    "<ul><li>Metode yang lebih tua, tapi masih sering digunakan.</li>\n",
    "<li>Menggunakan operator % untuk menempatkan nilai yang ingin diformat.</li>\n",
    "<li>Jenis konversi ditentukan dengan menggunakan spesifier format.</li></ul>"
   ]
  },
  {
   "cell_type": "code",
   "execution_count": 49,
   "metadata": {},
   "outputs": [
    {
     "name": "stdout",
     "output_type": "stream",
     "text": [
      "My name is Alice and I'm 25 years old.\n"
     ]
    }
   ],
   "source": [
    "name = \"Alice\"\n",
    "age = 25\n",
    "print(\"My name is %s and I'm %d years old.\" % (name, age))\n",
    "# Output: My name is Alice and I'm 25 years old."
   ]
  },
  {
   "cell_type": "markdown",
   "metadata": {},
   "source": [
    "<li>String Formatting dengan Template Strings:</li>\n",
    "<ul><li>Menggunakan modul string untuk membuat template string.</li>\n",
    "<li>Template string menggunakan $ untuk menandai tempat substitusi.</li></ul>"
   ]
  },
  {
   "cell_type": "code",
   "execution_count": 50,
   "metadata": {},
   "outputs": [
    {
     "name": "stdout",
     "output_type": "stream",
     "text": [
      "My name is Alice and I'm 25 years old.\n"
     ]
    }
   ],
   "source": [
    "from string import Template\n",
    "\n",
    "name = \"Alice\"\n",
    "age = 25\n",
    "template = Template(\"My name is $name and I'm $age years old.\")\n",
    "print(template.substitute(name=name, age=age))\n",
    "# Output: My name is Alice and I'm 25 years old."
   ]
  },
  {
   "cell_type": "markdown",
   "metadata": {},
   "source": [
    "Pilih cara yang paling sesuai dengan kebutuhan Anda dan versi Python yang Anda gunakan. f-strings biasanya menjadi pilihan terbaik karena sintaksnya paling sederhana dan mudah dibaca."
   ]
  },
  {
   "cell_type": "markdown",
   "metadata": {},
   "source": [
    "<h2>Conditional Statement</h2>"
   ]
  },
  {
   "cell_type": "markdown",
   "metadata": {},
   "source": [
    "Ketika kita sudah belajar perbandingan operator maka kita dapat melakukan conditional statement"
   ]
  },
  {
   "cell_type": "markdown",
   "metadata": {},
   "source": [
    "Dalam pemrograman, operator logika digunakan untuk melakukan operasi logika pada nilai-nilai boolean (True atau False). Berikut adalah operator logika yang tersedia dalam Python:\n",
    "\n",
    "1. **AND (`and`)**:\n",
    "   - Mengembalikan `True` jika semua operan bernilai `True`, jika tidak maka akan mengembalikan `False`.\n",
    "   - Contoh: `(5 > 3) and (3 < 7)` akan menghasilkan `True`.\n",
    "\n",
    "2. **OR (`or`)**:\n",
    "   - Mengembalikan `True` jika salah satu atau kedua operan bernilai `True`, jika tidak maka akan mengembalikan `False`.\n",
    "   - Contoh: `(5 < 3) or (3 < 7)` akan menghasilkan `True`.\n",
    "\n",
    "3. **NOT (`not`)**:\n",
    "   - Mengembalikan kebalikan dari nilai operan.\n",
    "   - Jika operan `True`, maka akan mengembalikan `False`, dan sebaliknya.\n",
    "   - Contoh: `not (5 > 3)` akan menghasilkan `False`.\n",
    "\n",
    "Berikut adalah tabel kebenaran untuk masing-masing operator logika:\n",
    "\n",
    "| A     | B     | A and B | A or B | not A |\n",
    "|-------|-------|---------|--------|-------|\n",
    "| True  | True  | True    | True   | False |\n",
    "| True  | False | False   | True   | False |\n",
    "| False | True  | False   | True   | True  |\n",
    "| False | False | False   | False  | True  |\n",
    "\n",
    "Operator logika ini sering digunakan dalam pernyataan kondisional, seperti `if`, `while`, dan `for`, untuk membuat keputusan berdasarkan ekspresi boolean.\n",
    "\n"
   ]
  },
  {
   "cell_type": "code",
   "execution_count": 53,
   "metadata": {},
   "outputs": [
    {
     "name": "stdout",
     "output_type": "stream",
     "text": [
      "Both conditions are true and x not same y\n",
      "True\n"
     ]
    }
   ],
   "source": [
    "x = 10\n",
    "y = 20\n",
    "if x > 0 and y > 10 and x!=y:\n",
    "    print(\"Both conditions are true and x not same y\")\n",
    "elif x > 0 or y > 30:\n",
    "    print(\"At least one condition is true\")\n",
    "else:\n",
    "    print(\"Both conditions are false\")\n",
    "\n",
    "print(x<y and y>2)"
   ]
  },
  {
   "cell_type": "markdown",
   "metadata": {},
   "source": [
    "Operator logika juga dapat digunakan dalam ekspresi boolean yang lebih kompleks dengan mengkombinasikan operator and, or, dan not."
   ]
  },
  {
   "cell_type": "markdown",
   "metadata": {},
   "source": [
    "<h2>Looping</h2>"
   ]
  },
  {
   "cell_type": "code",
   "execution_count": 54,
   "metadata": {},
   "outputs": [
    {
     "name": "stdout",
     "output_type": "stream",
     "text": [
      "ini looping\n",
      "ini looping\n",
      "ini looping\n"
     ]
    }
   ],
   "source": [
    "for i in range(3):\n",
    "    print(\"ini looping\")"
   ]
  },
  {
   "cell_type": "markdown",
   "metadata": {},
   "source": [
    "Dalam Python, terdapat dua jenis perulangan (loop) yang menggunakan `while`, yaitu:\n",
    "\n",
    "1. **while loop**:\n",
    "   - Perulangan `while` akan terus berjalan selama kondisi yang diberikan bernilai `True`.\n",
    "   - Sintaks dasar:\n",
    "     ```python\n",
    "     while condition:\n",
    "         # Blok kode yang akan dieksekusi\n",
    "         # selama kondisi bernilai True\n",
    "     ```\n",
    "   - Contoh:\n",
    "     ```python\n",
    "     count = 0\n",
    "     while count < 5:\n",
    "         print(f\"Iterasi ke-{count}\")\n",
    "         count += 1\n",
    "     # Output:\n",
    "     # Iterasi ke-0\n",
    "     # Iterasi ke-1\n",
    "     # Iterasi ke-2\n",
    "     # Iterasi ke-3\n",
    "     # Iterasi ke-4\n",
    "     ```\n",
    "\n",
    "2. **do-while loop**:\n",
    "   - Python tidak memiliki konstruksi `do-while` seperti bahasa pemrograman lainnya.\n",
    "   - Namun, Anda dapat mencapai efek yang mirip dengan `do-while` dengan menggunakan `while` loop dan menempatkan kode yang harus dijalankan setidaknya sekali kali di luar kondisi `while`.\n",
    "   - Contoh:\n",
    "     ```python\n",
    "     count = 0\n",
    "     while True:\n",
    "         print(f\"Iterasi ke-{count}\")\n",
    "         count += 1\n",
    "         if count >= 5:\n",
    "             break\n",
    "     # Output:\n",
    "     # Iterasi ke-0\n",
    "     # Iterasi ke-1\n",
    "     # Iterasi ke-2\n",
    "     # Iterasi ke-3\n",
    "     # Iterasi ke-4\n",
    "     ```\n",
    "     Dalam contoh di atas, blok kode di dalam `while` loop akan dijalankan setidaknya sekali, karena kondisi `while True` selalu bernilai `True`. Kemudian, kita menggunakan pernyataan `break` untuk keluar dari loop setelah `count` mencapai nilai 5.\n",
    "\n",
    "Perbedaan utama antara `while` loop dan `do-while` loop adalah bahwa `do-while` loop akan selalu menjalankan blok kode setidaknya sekali, sedangkan `while` loop akan memeriksa kondisi terlebih dahulu sebelum menjalankan blok kode.\n",
    "\n",
    "Dalam Python, `while` loop dapat digunakan untuk mencapai efek yang mirip dengan `do-while` loop, seperti yang ditunjukkan dalam contoh di atas. Namun, Python tidak memiliki konstruksi `do-while` sebagai bagian dari sintaks bahasanya."
   ]
  },
  {
   "cell_type": "code",
   "execution_count": 68,
   "metadata": {},
   "outputs": [
    {
     "name": "stdout",
     "output_type": "stream",
     "text": [
      "0\n",
      "1\n",
      "2\n",
      "3\n",
      "4\n",
      "10\n",
      "16\n",
      "19\n",
      "22\n",
      "25\n",
      "28\n",
      "0\n",
      "1\n",
      "2\n"
     ]
    }
   ],
   "source": [
    "for i in range(0,6,1):#(start,end,proses)\n",
    "    print(i)\n",
    "    if i==4:\n",
    "        break#berhenti ketika sesuai kondisi\n",
    "for j in range(10,30,3):\n",
    "    if j==13:#skip angka 13\n",
    "        continue\n",
    "    print(j)\n",
    "for y in range(3):\n",
    "    print(y)"
   ]
  },
  {
   "cell_type": "code",
   "execution_count": 70,
   "metadata": {},
   "outputs": [
    {
     "name": "stdout",
     "output_type": "stream",
     "text": [
      "1\n",
      "3\n",
      "5\n",
      "7\n",
      "9\n"
     ]
    }
   ],
   "source": [
    "for i in range(1,11):\n",
    "    if i%2 !=0:\n",
    "        print(i)"
   ]
  },
  {
   "cell_type": "code",
   "execution_count": 72,
   "metadata": {},
   "outputs": [
    {
     "name": "stdout",
     "output_type": "stream",
     "text": [
      "uang sekarang:90000\n",
      "uang sekarang:80000\n",
      "uang sekarang:70000\n",
      "uang sekarang:60000\n",
      "uang sekarang:50000\n",
      "uang sekarang:40000\n",
      "uang sekarang:30000\n",
      "uang sekarang:20000\n",
      "uang sekarang:10000\n",
      "uang sekarang:0\n",
      "uang abis\n"
     ]
    }
   ],
   "source": [
    "uang =100000\n",
    "while(uang >0):\n",
    "    uang-=10000\n",
    "    print(\"uang sekarang:\"+str(uang))#print ketika uang sudah berkurang\n",
    "\n",
    "print(\"uang abis\")"
   ]
  },
  {
   "cell_type": "code",
   "execution_count": 76,
   "metadata": {},
   "outputs": [
    {
     "name": "stdout",
     "output_type": "stream",
     "text": [
      "uang sekarang:100000\n",
      "uang sekarang:90000\n",
      "uang sekarang:80000\n",
      "uang sekarang:70000\n",
      "uang sekarang:60000\n",
      "uang sekarang:50000\n",
      "uang sekarang:40000\n",
      "uang sekarang:30000\n",
      "uang sekarang:20000\n",
      "uang sekarang:10000\n",
      "uang abis\n"
     ]
    }
   ],
   "source": [
    "uang =100000\n",
    "while(uang >0):\n",
    "    print(\"uang sekarang:\"+str(uang))#print dulu baru dikurangi dan uang ketika 0 tidak di print karena 0 ketika di while sudah bernilai false\n",
    "    uang-=10000\n",
    "\n",
    "print(\"uang abis\")\n"
   ]
  },
  {
   "cell_type": "markdown",
   "metadata": {},
   "source": []
  }
 ],
 "metadata": {
  "kernelspec": {
   "display_name": "Python 3",
   "language": "python",
   "name": "python3"
  },
  "language_info": {
   "codemirror_mode": {
    "name": "ipython",
    "version": 3
   },
   "file_extension": ".py",
   "mimetype": "text/x-python",
   "name": "python",
   "nbconvert_exporter": "python",
   "pygments_lexer": "ipython3",
   "version": "3.12.4"
  }
 },
 "nbformat": 4,
 "nbformat_minor": 2
}
